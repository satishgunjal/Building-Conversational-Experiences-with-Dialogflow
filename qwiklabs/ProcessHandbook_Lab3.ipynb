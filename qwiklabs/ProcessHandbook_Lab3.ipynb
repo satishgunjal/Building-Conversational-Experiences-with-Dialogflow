{
 "cells": [
  {
   "cell_type": "markdown",
   "metadata": {},
   "source": [
    "# Process Handbook"
   ]
  },
  {
   "cell_type": "markdown",
   "metadata": {},
   "source": [
    "This notebook processes the example handbook (CAHRC_HR_Manual.txt).  This is done in a simple fashion using the following heuristic: If a line of text consisting of less than 5 words is followed by paragraphs of text the assume the line of text with less than 5 words is a topic (i.e. the topic of a question an employee might ask) and that the paragraphs of text are the answer to that question (called action_text for the lack of a better term).\n",
    "\n",
    "When a topic and action_text are found these are stored in Cloud Datastore as a key-value pair with the topic as the key and the action_text as the value."
   ]
  },
  {
   "cell_type": "code",
   "execution_count": 1,
   "metadata": {},
   "outputs": [
    {
     "name": "stdout",
     "output_type": "stream",
     "text": [
      "\u001b[33mSkipping google-cloud-datastore as it is not installed.\u001b[0m\r\n"
     ]
    }
   ],
   "source": [
    "!pip uninstall -y google-cloud-datastore"
   ]
  },
  {
   "cell_type": "code",
   "execution_count": 2,
   "metadata": {},
   "outputs": [
    {
     "name": "stdout",
     "output_type": "stream",
     "text": [
      "Collecting google-cloud-datastore\n",
      "\u001b[?25l  Downloading https://files.pythonhosted.org/packages/40/7c/e1dec4fd96448fded7812f23be75cc3697534e7252d018499a9fb40fb9cc/google_cloud_datastore-1.15.0-py2.py3-none-any.whl (132kB)\n",
      "\u001b[K    100% |████████████████████████████████| 133kB 4.1MB/s ta 0:00:01\n",
      "\u001b[?25hCollecting google-cloud-core<2.0dev,>=1.4.0 (from google-cloud-datastore)\n",
      "  Downloading https://files.pythonhosted.org/packages/a8/c8/9be9810356f62daea7e417164db6eb4b5f5edf087a9516fa4602de8b1924/google_cloud_core-1.4.1-py2.py3-none-any.whl\n",
      "Collecting google-api-core[grpc]<2.0.0dev,>=1.14.0 (from google-cloud-datastore)\n",
      "\u001b[?25l  Downloading https://files.pythonhosted.org/packages/e0/2d/7c6c75013105e1d2b6eaa1bf18a56995be1dbc673c38885aea31136e9918/google_api_core-1.22.1-py2.py3-none-any.whl (91kB)\n",
      "\u001b[K    100% |████████████████████████████████| 92kB 11.9MB/s ta 0:00:01\n",
      "\u001b[?25hCollecting googleapis-common-protos<2.0dev,>=1.6.0 (from google-api-core[grpc]<2.0.0dev,>=1.14.0->google-cloud-datastore)\n",
      "\u001b[?25l  Downloading https://files.pythonhosted.org/packages/03/74/3956721ea1eb4bcf7502a311fdaa60b85bd751de4e57d1943afe9b334141/googleapis_common_protos-1.52.0-py2.py3-none-any.whl (100kB)\n",
      "\u001b[K    100% |████████████████████████████████| 102kB 9.2MB/s a 0:00:011\n",
      "\u001b[?25hCollecting protobuf>=3.12.0 (from google-api-core[grpc]<2.0.0dev,>=1.14.0->google-cloud-datastore)\n",
      "\u001b[?25l  Downloading https://files.pythonhosted.org/packages/19/f1/e7ea38480048cc073802b9242156b85095586c5b1f66d84447635696be60/protobuf-3.13.0-cp27-cp27mu-manylinux1_x86_64.whl (1.3MB)\n",
      "\u001b[K    100% |████████████████████████████████| 1.3MB 8.1MB/s eta 0:00:01\n",
      "\u001b[?25hCollecting google-auth<2.0dev,>=1.19.1 (from google-api-core[grpc]<2.0.0dev,>=1.14.0->google-cloud-datastore)\n",
      "\u001b[?25l  Downloading https://files.pythonhosted.org/packages/0f/79/4c59796bb02535aee5e5d2e2c5e16008aaf48903c2ec2ff566a2774bb3e0/google_auth-1.20.1-py2.py3-none-any.whl (91kB)\n",
      "\u001b[K    100% |████████████████████████████████| 92kB 18.2MB/s ta 0:00:01\n",
      "\u001b[?25hRequirement already satisfied: futures>=3.2.0; python_version < \"3.2\" in /usr/local/envs/py2env/lib/python2.7/site-packages (from google-api-core[grpc]<2.0.0dev,>=1.14.0->google-cloud-datastore) (3.2.0)\n",
      "Requirement already satisfied: pytz in /usr/local/envs/py2env/lib/python2.7/site-packages (from google-api-core[grpc]<2.0.0dev,>=1.14.0->google-cloud-datastore) (2018.4)\n",
      "Requirement already satisfied: six>=1.10.0 in /usr/local/envs/py2env/lib/python2.7/site-packages (from google-api-core[grpc]<2.0.0dev,>=1.14.0->google-cloud-datastore) (1.10.0)\n",
      "Requirement already satisfied: setuptools>=34.0.0 in /usr/local/envs/py2env/lib/python2.7/site-packages (from google-api-core[grpc]<2.0.0dev,>=1.14.0->google-cloud-datastore) (41.0.1)\n",
      "Requirement already satisfied: requests<3.0.0dev,>=2.18.0 in /usr/local/envs/py2env/lib/python2.7/site-packages (from google-api-core[grpc]<2.0.0dev,>=1.14.0->google-cloud-datastore) (2.18.4)\n",
      "Collecting grpcio<2.0dev,>=1.29.0; extra == \"grpc\" (from google-api-core[grpc]<2.0.0dev,>=1.14.0->google-cloud-datastore)\n",
      "\u001b[?25l  Downloading https://files.pythonhosted.org/packages/e3/0e/f56aa1f8200ae3c5d38305e69f5920caa480c7ff54ae4d8a5f57d1d69fa4/grpcio-1.31.0.tar.gz (20.0MB)\n",
      "\u001b[K    100% |████████████████████████████████| 20.0MB 1.2MB/s eta 0:00:01\n",
      "\u001b[?25hRequirement already satisfied: pyasn1-modules>=0.2.1 in /usr/local/envs/py2env/lib/python2.7/site-packages (from google-auth<2.0dev,>=1.19.1->google-api-core[grpc]<2.0.0dev,>=1.14.0->google-cloud-datastore) (0.2.4)\n",
      "Requirement already satisfied: cachetools<5.0,>=2.0.0 in /usr/local/envs/py2env/lib/python2.7/site-packages (from google-auth<2.0dev,>=1.19.1->google-api-core[grpc]<2.0.0dev,>=1.14.0->google-cloud-datastore) (2.1.0)\n",
      "Requirement already satisfied: rsa<4.6; python_version < \"3.5\" in /usr/local/envs/py2env/lib/python2.7/site-packages (from google-auth<2.0dev,>=1.19.1->google-api-core[grpc]<2.0.0dev,>=1.14.0->google-cloud-datastore) (3.4.2)\n",
      "Requirement already satisfied: chardet<3.1.0,>=3.0.2 in /usr/local/envs/py2env/lib/python2.7/site-packages (from requests<3.0.0dev,>=2.18.0->google-api-core[grpc]<2.0.0dev,>=1.14.0->google-cloud-datastore) (3.0.4)\n",
      "Requirement already satisfied: idna<2.7,>=2.5 in /usr/local/envs/py2env/lib/python2.7/site-packages (from requests<3.0.0dev,>=2.18.0->google-api-core[grpc]<2.0.0dev,>=1.14.0->google-cloud-datastore) (2.6)\n",
      "Requirement already satisfied: urllib3<1.23,>=1.21.1 in /usr/local/envs/py2env/lib/python2.7/site-packages (from requests<3.0.0dev,>=2.18.0->google-api-core[grpc]<2.0.0dev,>=1.14.0->google-cloud-datastore) (1.22)\n",
      "Requirement already satisfied: certifi>=2017.4.17 in /usr/local/envs/py2env/lib/python2.7/site-packages (from requests<3.0.0dev,>=2.18.0->google-api-core[grpc]<2.0.0dev,>=1.14.0->google-cloud-datastore) (2019.3.9)\n",
      "Requirement already satisfied: enum34>=1.0.4 in /usr/local/envs/py2env/lib/python2.7/site-packages (from grpcio<2.0dev,>=1.29.0; extra == \"grpc\"->google-api-core[grpc]<2.0.0dev,>=1.14.0->google-cloud-datastore) (1.1.6)\n",
      "Requirement already satisfied: pyasn1<0.5.0,>=0.4.1 in /usr/local/envs/py2env/lib/python2.7/site-packages (from pyasn1-modules>=0.2.1->google-auth<2.0dev,>=1.19.1->google-api-core[grpc]<2.0.0dev,>=1.14.0->google-cloud-datastore) (0.4.5)\n",
      "Building wheels for collected packages: grpcio\n",
      "  Running setup.py bdist_wheel for grpcio ... \u001b[?25ldone\n",
      "\u001b[?25h  Stored in directory: /content/.cache/pip/wheels/e4/2a/04/8be8b1db08cb3def3c8f6e608c9fcdc1509ce7587856793b3f\n",
      "Successfully built grpcio\n",
      "\u001b[31mpandas-gbq 0.3.0 has requirement google-cloud-bigquery>=0.28.0, but you'll have google-cloud-bigquery 0.23.0 which is incompatible.\u001b[0m\n",
      "\u001b[31mgoogle-cloud-monitoring 0.28.0 has requirement google-api-core<0.2.0dev,>=0.1.1, but you'll have google-api-core 1.22.1 which is incompatible.\u001b[0m\n",
      "\u001b[31mgoogle-cloud-monitoring 0.28.0 has requirement google-cloud-core<0.29dev,>=0.28.0, but you'll have google-cloud-core 1.4.1 which is incompatible.\u001b[0m\n",
      "\u001b[31mgoogle-cloud-bigquery 0.23.0 has requirement google-cloud-core<0.24dev,>=0.23.1, but you'll have google-cloud-core 1.4.1 which is incompatible.\u001b[0m\n",
      "\u001b[31mtensorboard 1.8.0 has requirement bleach==1.5.0, but you'll have bleach 2.1.2 which is incompatible.\u001b[0m\n",
      "\u001b[31mtensorboard 1.8.0 has requirement html5lib==0.9999999, but you'll have html5lib 1.0.1 which is incompatible.\u001b[0m\n",
      "\u001b[31mgoogle-cloud-dataflow 2.0.0 has requirement httplib2<0.10,>=0.8, but you'll have httplib2 0.13.0 which is incompatible.\u001b[0m\n",
      "\u001b[31mgoogle-cloud-dataflow 2.0.0 has requirement protobuf==3.2.0, but you'll have protobuf 3.13.0 which is incompatible.\u001b[0m\n",
      "Installing collected packages: protobuf, googleapis-common-protos, google-auth, grpcio, google-api-core, google-cloud-core, google-cloud-datastore\n",
      "  Found existing installation: protobuf 3.6.1\n",
      "    Uninstalling protobuf-3.6.1:\n",
      "      Successfully uninstalled protobuf-3.6.1\n",
      "  Found existing installation: googleapis-common-protos 1.5.10\n",
      "    Uninstalling googleapis-common-protos-1.5.10:\n",
      "      Successfully uninstalled googleapis-common-protos-1.5.10\n",
      "  Found existing installation: google-auth 1.6.3\n",
      "    Uninstalling google-auth-1.6.3:\n",
      "      Successfully uninstalled google-auth-1.6.3\n",
      "  Found existing installation: grpcio 1.21.1\n",
      "    Uninstalling grpcio-1.21.1:\n",
      "      Successfully uninstalled grpcio-1.21.1\n",
      "  Found existing installation: google-api-core 0.1.4\n",
      "    Uninstalling google-api-core-0.1.4:\n",
      "      Successfully uninstalled google-api-core-0.1.4\n",
      "  Found existing installation: google-cloud-core 0.28.1\n",
      "    Uninstalling google-cloud-core-0.28.1:\n",
      "      Successfully uninstalled google-cloud-core-0.28.1\n",
      "Successfully installed google-api-core-1.22.1 google-auth-1.20.1 google-cloud-core-1.4.1 google-cloud-datastore-1.15.0 googleapis-common-protos-1.52.0 grpcio-1.31.0 protobuf-3.13.0\n"
     ]
    }
   ],
   "source": [
    "!pip install google-cloud-datastore"
   ]
  },
  {
   "cell_type": "markdown",
   "metadata": {},
   "source": [
    "Hit Reset Session > Restart, then resume with the following cells. "
   ]
  },
  {
   "cell_type": "code",
   "execution_count": 1,
   "metadata": {},
   "outputs": [],
   "source": [
    "from google.cloud import datastore"
   ]
  },
  {
   "cell_type": "code",
   "execution_count": 2,
   "metadata": {},
   "outputs": [],
   "source": [
    "datastore_client = datastore.Client()"
   ]
  },
  {
   "cell_type": "code",
   "execution_count": 3,
   "metadata": {},
   "outputs": [
    {
     "name": "stdout",
     "output_type": "stream",
     "text": [
      "Saved employment equity: [THE ORGANIZATION] is an equal opportunity employer and employs personnel without regard to race, ancestry, place of origin, colour, ethnic origin, language, citizenship, creed, religion, gender, sexual orientation, age, marital status, physical and/or mental handicap or financial ability. While remaining alert and sensitive to the issue of fair and equitable treatment for all, [THE ORGANIZATION] has a special concern with the participation and advancement of members of four designated groups that have traditionally been disadvantaged in employment: women, visible minorities, aboriginal peoples and persons with disabilities.\n",
      "\n",
      "Saved recruitment and selection: All employment opportunities at [the organization]  are posted for a minimum 10 working day period.  They are posted on [THE ORGANIZATION]’s website and on the websites of affiliated organizations.  Occasionally, they are posted on employment websites or with an employment agency.  Applications are encouraged from current employees but will be screened in the same manner as applications received from outside applicants.\n",
      "\n",
      "Saved nepotism: No candidate shall be hired for a position where they may report to, or supervise a member of their immediate family.  Immediate family is defined as: parent(s), step parent(s), foster parent(s), sibling(s), grandparent(s), spouse {including common law a/o same sex partner}, step child(ren) or ward of the staff member, father-in-law or mother-in-law (including parent of same sex partner).  Personal relationships with other employees or members of the [THE ORGANIZATION]’s Board of Directors or Committees of [THE ORGANIZATION] should be disclosed prior to accepting any offer from the employer.  Failure to disclose this information would be considered contradictory to the Code of Ethics policy (Appendix A).\n",
      "\n",
      "Saved orientation: All new employees to [THE ORGANIZATION] shall receive an orientation session which will encompass an overview of general policies, procedures and operations.  This will also provide employees, new to either a position or [THE ORGANIZATION], an opportunity to learn the performance expectations management has with regard to the position in question.  They will be given a copy of this Employee Handbook and will be expected to learn its contents.  They will also make aware of policies such as, Code of Ethics, and asked to sign off on their adherence to same.\n",
      "\n",
      "Saved employee classifications: Each position at [THE ORGANIZATION] shall be classified as either Administrative or Management in nature, as determined by the Executive Director.  This decision will be based on the duties assigned and qualifications required for each position.  It should be noted that Management positions are not covered by the Hours of Work and Overtime provisions of the Employment Standards Act (O. Regulation #285).\n",
      "\n",
      "Saved employee duties: Attached to an Offer of Employment, is a description of the job and the associated responsibilities, along with any additional tasks possibly required.  This document will be used to evaluate performance both during the probation period and after.  If an employee is unsure of its contents, they should not hesitate to ask for clarification.\n",
      "\n",
      "Saved personnel file: [THE ORGANIZATION] does collect personal information for inclusion in personnel files.  This information is available to the employee, the Executive Director and the [INSERT TITLE OF SENIOR HR PERSON].  This information is kept in a secure location, and is not shared with members of our Board or with our funders.  Information which is contained in an employee’s personnel file includes the following: résumé, letter of offer, performance reviews, amendments to job descriptions, disciplinary notices, tax forms, copies of enrolment forms for benefits and approved leave requests.\n",
      "\n",
      "Saved probation: The first six (6) months of employment are probationary.  During this time both parties may assess suitability for employment with the Employer.  This also provides management an opportunity to assess skill levels and address areas of potential concern. During the first ninety (90) days of the probationary period, employment may be terminated by either party for any reason whatsoever, with or without cause, and without notice or payment in lieu of notice, except as may be minimally prescribed by the Employment Standards Act of Ontario (“ESA”), as may be amended from time to time. Upon satisfaction of the requirements under the ESA, as amended, the Employer shall have satisfied any and all obligations to the employee, whether under the ESA, as amended, or at common law. At the completion of the probation period, the employee and employer shall meet and review progress to date.  At this time one of three things will occur:\n",
      "\n",
      "Saved annual salary: Salaries shall be determined by the Executive Director, based on budget considerations and commensurate with the experience of the successful candidate.   The organization shall pay employees on a bi-weekly basis, less the usual and necessary statutory and other deductions payable in accordance with the Employer’s standard payroll practices.  These payroll practices may be changed from time to time at the Employer’s sole discretion.  Currently, payday occurs every second Thursday and covers the pay period ended the previous Saturday.\n",
      "\n",
      "Saved performance appraisals: The performance review document will be a living document for each employee.  Each employee will be responsible for developing their respective workplan for the year.  This plan will be reviewed by Management and amended as necessary.  At the time of the performance appraisal, the employer and employee will review the objectives and the results achieved.  Throughout the year, the employee and employer may refer to this document to track progress made toward objectives, highlight areas of concern and indicate challenges identified along the way.  \n",
      "\n",
      "Saved professionalism: When representing [THE ORGANIZATION], staff should dress and behave appropriately.  Employees should choose to dress in a manner which presents a professional image to the public and is respectful of others.  Excessive use of profanity is neither professional nor respectful to co-workers and will not be tolerated.\n",
      "\n",
      "Saved discipline: Discipline at [THE ORGANIZATION] shall be progressive, depending on the nature of the problem.  Its purpose is to identify unsatisfactory performance and / or unacceptable behaviour.  The stages may be:\n",
      "\n",
      "Saved hours of work: The regular office hours for [THE ORGANIZATION] are 8 a.m. to 4:30 p.m. Monday through Friday inclusive (excluding holidays), with core operational hours being 9 a.m. to 3:30 p.m.  During core hours, it is expected that most staff will be available. All employees are expected to work 7.5 hours per day, which include those hours indicated as core, exclusive of an unpaid eating break of at least thirty (30) minutes. Employees may also be expected to work such other hours as may be requested or required, from time to time. Employees hired on a part time basis will have schedules determined on a case by case basis.  \n",
      "\n",
      "Saved statutory holidays: The Province of Ontario has twelve (12) public holidays and other days for which staff will be paid.  They are:\n",
      "\n",
      "Saved overtime: All overtime must be authorized by the Executive Director in advance of being worked. Employees will be provided with time off in lieu of overtime pay at straight time for all hours worked between thirty-seven and one half (37.5) and forty-four (44) hours per week.  After forty-four (44) hours worked in a week, employees shall accumulate time off in lieu of overtime pay at the rate of time and one-half (1.5) the regular non-overtime rate of pay.  Time in lieu of overtime pay must be taken in the twelve (12) months following it being earned and it must be scheduled with the agreement of the Employer based on its operational requirements.  Overtime, taken in lieu, should be used in ½ day increments.  Pursuant to Ontario regulation #285, employees in a Managerial or Supervisory roles are exempt from the overtime provisions of the Employment Standards Act.\n",
      "\n",
      "Saved termination for cause: An Employment Contract may be terminated by the Employer at any time for cause, without notice or payment in lieu of notice or severance pay whatsoever, except payment of outstanding wages, overtime and vacation pay to the date of termination.  Cause includes, but is not limited to, any act of dishonesty, conflict of interest, breach of confidentiality, harassment, insubordination, or careless, negligent or documented poor work performance.\n",
      "\n"
     ]
    },
    {
     "name": "stdout",
     "output_type": "stream",
     "text": [
      "Saved termination without cause: An Employment Contract may be terminated by the Employer at any time and for any reason on a without cause basis, upon the provision of notice or payment of notice instead , and severance pay if applicable, as is minimally required by the ESA, as amended from time to time.  In addition to notice, and pursuant to the ESA, the employee shall be entitled to an additional one (1) week’s notice or payment in lieu of notice for every year of completed service (severance pay) with the Employer to a maximum of sixteen (16) weeks’ notice inclusive of the notice requirements under the ESA. The notice as described in this paragraph is inclusive of all statutory and common law entitlements to notice or payment in lieu of notice.  Upon satisfaction of the requirements under this paragraph, the Employer shall have satisfied any and all obligations to the employee, whether under the ESA, as amended, or at common law.  The notice requirement contained in this clause constitutes a material inducement to the Employer to enter this agreement.\n",
      "\n",
      "Saved resignation: After completion of the first ninety (90) days of the probationary period, employees must give the Employer two (2) weeks’ notice of resignation. The Employer may waive the resignation notice period in whole or in part at any time by providing payment of regular wages for the period so waived.\n",
      "\n",
      "Saved layoff: Operation requirements are subject to change based on workload and the funding levels received on an annual basis.  All efforts will be made to keep staff in a position similar, in scope and salary, to that they have become accustom to.  If the organization is unable to do this, then employees will receive one (1) week notice for each year of service, as required by the Ontario Labour Code.  For employees who have a minimum of six years of service, this amount will be augmented by one (1) week of severance pay (or equivalent notice) for each year of service.\n",
      "\n",
      "Saved employer property: Upon termination of employment for any reason, all items of any kind created or used pursuant to the employee’s service or furnished by the Employer including but not limited to computers, reports, files, diskettes, manuals, literature, or other materials shall remain and be considered the exclusive property of the Employer at all times, and shall be surrendered to the Executive Director, in good condition, promptly and without being requested to do so.\n",
      "\n",
      "Saved sick leave: Employees will be entitled to twelve (12) days of sick leave per calendar year accumulated on the basis of 1 day per month. A maximum of twelve (12) days of sick leave may be carried forward to the next calendar year so that an employee shall have no more than twenty (24) sick days in any one calendar year. Any additional sick leave accumulated will be forfeit.  Moreover, regardless of the amount of sick leave accumulated, sick leave will not be paid out upon resignation, retirement, or termination of employment for any reason. Furthermore, since Sick Leave has no cash value, employees may not use more than they have accumulated, without the express written permission of the Executive Director.  Employees working less than full time will have their rate of accumulation adjusted accordingly.\n",
      "\n",
      "Saved compassionate leave: [THE ORGANIZATION] will grant up to three (3) working days per event on the occasion of a death in the staff member’s immediate family.  Immediate family is defined as: parent(s), step parent(s), foster parent(s), sibling(s), grandparent(s), spouse (including common law a/o same sex partner), step child(ren) or ward of the staff member, father-in-law or mother-in-law (including parent of same sex partner).  \n",
      "\n",
      "Saved jury duty: Employees will be allowed up to two (2) weeks paid time off for jury duty.  After that, employees will be asked to continue jury duty without pay.  Any compensation, covering the first two (2) weeks, received from the court system shall be surrendered to the Organization.  A copy of the notice to serve should be provided for inclusion in the employee’s personnel file.\n",
      "\n",
      "Saved disability leave: Currently, [THE ORGANIZATION]’s benefit package does not provide for Short Term Disability.  [THE ORGANIZATION] does have coverage for Long Term Disability through The Great West Life Assurance Company, with a waiting period of 120 days. To access this coverage, please contact the Manager, Finance and Administration.  For short term disability, employees have the option to apply for EI Benefits for medical reasons. \n",
      "\n",
      "Saved unpaid leave: Employees may take unpaid leave with the written consent of the Executive Director.  During periods of unpaid leave, medical, dental, life and AD&D coverage shall continue to be paid by the employer, vacation shall continue to accrue and seniority shall be maintained.  Contributions to the group RRSP will occur strictly on a matching basis.  If the employee makes a contribution, [THE ORGANIZATION] shall match it; otherwise no contributions shall be made by the Organization.  Every attempt will be made to return employees to a position of equal responsibility on return from leave status, however, no guarantees exists that the exact position left will be available on return. \n",
      "\n",
      "Saved group rrsp: Employees begin participation in the plan after completion of three (3) months of employment.  The contribution by each employee is at least five percent (5%) of their gross salary, which is deducted from their paycheque.  This is matched by the employer to a maximum of five percent (5%).  Employees may not elect to place these contributions with another investment broker / agent while employed by [THE ORGANIZATION].  Withdrawals from the Group RRSP plan are restricted for the duration of employment with [THE ORGANIZATION], unless permission is granted by the Executive Director, and is received in writing.  Participation in Federally sponsored programs such as Home Buyer’s Plan and the Life Long Learning Plan are allowed but also require the written approval of the Executive Director.\n",
      "\n",
      "Saved smoke free environment: Effective May 31, 2006, the province of Ontario banned smoking in workplaces.  As such, smoking in the offices of [THE ORGANIZATION] is not permitted at any time.  An ‘enclosed workplace’ is defined as the inside of any place, building or structure or conveyance or a part of any of them that a) is covered by a roof or b) employees work in or frequent during the course of their employment whether or not they are acting in the course of their employment at the time, and c) is not primarily a private dwelling\n",
      "\n",
      "Saved scents: [THE ORGANIZATION] is aware that some persons may have allergies or sensitivities to perfumes, lotions, colognes and / or chemical smells.  As a result, we discourage the overuse of these products.\n",
      "\n",
      "Saved pets: The offices of [THE ORGANIZATION] are a place of business, and as such, pets are not welcome during normal working hours.  Staff and visitors with seeing-eye dogs are the exception.\n",
      "\n",
      "Saved renovations: As odours from building materials and noise levels for tools can cause discomfort to employees, renovations will be scheduled to have a minimum impact on employees.  This may include renovating during non work hours (evenings & weekends) and ensuring direct ventilation to control fumes.  Carpets should be installed and cloth furniture unwrapped late in the day so emissions may occur during non working hours.\n",
      "\n"
     ]
    }
   ],
   "source": [
    "employee_handbook = open('CAHRC_HR_Manual.txt', 'r')\n",
    "while True:\n",
    "  \n",
    "  topic = employee_handbook.readline()\n",
    "  if not(topic):\n",
    "    break\n",
    "  \n",
    "  if (topic != '\\r\\n') and (len(topic.split(' ')) < 5):\n",
    "  \n",
    "    action_text = ''\n",
    "        \n",
    "    last_line = ''\n",
    "    line = employee_handbook.readline()\n",
    "    \n",
    "    while (last_line != '\\r\\n') and (line != '\\r\\n') and (len(line.split(' ')) > 5):\n",
    "      \n",
    "      action_text += line\n",
    "      last_line = line\n",
    "      line = employee_handbook.readline()\n",
    "      \n",
    "    if action_text != '':\n",
    "      \n",
    "      kind = 'Topic'\n",
    "      topic_key = datastore_client.key(kind, topic.strip().lower())\n",
    "\n",
    "      topic = datastore.Entity(key=topic_key)\n",
    "      topic['action_text'] = action_text\n",
    "\n",
    "      datastore_client.put(topic)\n",
    "\n",
    "      print('Saved {}: {}'.format(topic.key.name, topic['action_text']))"
   ]
  },
  {
   "cell_type": "code",
   "execution_count": null,
   "metadata": {},
   "outputs": [],
   "source": []
  }
 ],
 "metadata": {
  "kernelspec": {
   "display_name": "Python 2",
   "language": "python",
   "name": "python2"
  },
  "language_info": {
   "codemirror_mode": {
    "name": "ipython",
    "version": 2
   },
   "file_extension": ".py",
   "mimetype": "text/x-python",
   "name": "python",
   "nbconvert_exporter": "python",
   "pygments_lexer": "ipython2",
   "version": "2.7.15"
  }
 },
 "nbformat": 4,
 "nbformat_minor": 2
}
